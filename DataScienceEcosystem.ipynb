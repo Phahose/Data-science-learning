{
 "cells": [
  {
   "cell_type": "markdown",
   "id": "e68ba772-f52f-41de-aaa7-481fd288fa29",
   "metadata": {},
   "source": [
    "# Data Science Tools and Ecosystem\n"
   ]
  },
  {
   "cell_type": "markdown",
   "id": "195353fe-c0dd-4bc9-82b6-3d9298f17e6d",
   "metadata": {},
   "source": [
    "In this notebook, Data Sciece tools and Ecosystem are Summarized"
   ]
  },
  {
   "cell_type": "markdown",
   "id": "8b3b2b3f-4363-43d6-8eef-f159a683d43f",
   "metadata": {},
   "source": [
    "Some of the popular languaes that Data Scientists use are:\n",
    "1. SQL\n",
    "2. R\n",
    "3. Python"
   ]
  },
  {
   "cell_type": "markdown",
   "id": "20c93233-1734-4b98-b8dd-b32603bc3dd7",
   "metadata": {},
   "source": [
    "Some of the commonly used libraries used by Data Scientists include:\n",
    "1. TensorFlow\n",
    "2. Plotify\n",
    "3. Matplotlib"
   ]
  },
  {
   "cell_type": "markdown",
   "id": "a91f0cdf-c118-4462-8230-597956610045",
   "metadata": {},
   "source": [
    "| Data Science Tools       |\n",
    "|--------------------------|\n",
    "| Jupyter Notebook         |\n",
    "| RStudio                  |\n",
    "| Apache Zeppelin          |\n"
   ]
  },
  {
   "cell_type": "markdown",
   "id": "b0f3deb8-ab6a-41b8-b6b1-2a8fc6211e19",
   "metadata": {},
   "source": [
    "### Below are a few examples of evaluating arithmetic expressions in Python.\n"
   ]
  },
  {
   "cell_type": "code",
   "execution_count": 1,
   "id": "e4c7345d-859f-43fd-bdcc-e638b90532f8",
   "metadata": {},
   "outputs": [
    {
     "data": {
      "text/plain": [
       "17"
      ]
     },
     "execution_count": 1,
     "metadata": {},
     "output_type": "execute_result"
    }
   ],
   "source": [
    "# This is a simple arithmetic expression to multiply then add integers\n",
    "(3 * 4) + 5\n"
   ]
  },
  {
   "cell_type": "code",
   "execution_count": 2,
   "id": "ad60a9db-1d9c-48ed-9f9b-3e7154273620",
   "metadata": {},
   "outputs": [
    {
     "data": {
      "text/plain": [
       "3.3333333333333335"
      ]
     },
     "execution_count": 2,
     "metadata": {},
     "output_type": "execute_result"
    }
   ],
   "source": [
    "# This will convert 200 minutes to hours by dividing by 60\n",
    "200 / 60\n"
   ]
  },
  {
   "cell_type": "markdown",
   "id": "2eed6ee8-09fb-485e-b690-0a5bee5228c0",
   "metadata": {},
   "source": [
    "**Objectives:**\n",
    "\n",
    "- List popular languages for Data Science.\n",
    "- Explain the importance of Data Science tools.\n",
    "- Demonstrate arithmetic operations in Python.\n",
    "- Convert units such as minutes to hours using Python.\n",
    "- Explore development environments for Data Science."
   ]
  },
  {
   "cell_type": "markdown",
   "id": "fb4d258a-352a-4292-bcdf-284bf89aebd3",
   "metadata": {},
   "source": [
    "## Author\n",
    "\n",
    "Nicholas Ekwom\n"
   ]
  },
  {
   "cell_type": "code",
   "execution_count": null,
   "id": "636d5e13-b77c-4300-abbc-e6e1bb71e208",
   "metadata": {},
   "outputs": [],
   "source": []
  }
 ],
 "metadata": {
  "kernelspec": {
   "display_name": "Python 3 (ipykernel)",
   "language": "python",
   "name": "python3"
  },
  "language_info": {
   "codemirror_mode": {
    "name": "ipython",
    "version": 3
   },
   "file_extension": ".py",
   "mimetype": "text/x-python",
   "name": "python",
   "nbconvert_exporter": "python",
   "pygments_lexer": "ipython3",
   "version": "3.11.9"
  }
 },
 "nbformat": 4,
 "nbformat_minor": 5
}
